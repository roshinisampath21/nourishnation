{
 "cells": [
  {
   "cell_type": "code",
   "execution_count": null,
   "id": "8949b101",
   "metadata": {},
   "outputs": [],
   "source": [
    "import pandas as pd\n",
    "import numpy as np\n",
    "import pickle\n",
    "from sklearn.model_selection import train_test_split\n",
    "from sklearn.preprocessing import LabelEncoder\n",
    "from sklearn.ensemble import RandomForestClassifier\n",
    "from sklearn.metrics import accuracy_score\n",
    "# Load the initial crop data\n",
    "webhdfs_url = \"http://127.0.0.1:9870/webhdfs/v1/user/nourishnation/crop_human.csv?op=OPEN\"\n",
    "response_crop_human = requests.get(webhdfs_url)\n",
    "data_crop_human = response_crop_human.text\n",
    "#print(\"\\n\\n\", data_crop_human)\n",
    "data = pd.read_csv(StringIO(data_crop_human))\n",
    "# Selecting the relevant columns for the model\n",
    "features = data[['temperature', 'humidity', 'ph', 'rainfall']]\n",
    "target = data['label']\n",
    "# Encoding the target variable (crops)\n",
    "label_encoder = LabelEncoder()\n",
    "target_encoded = label_encoder.fit_transform(target)\n",
    "# Splitting the data into training and testing sets\n",
    "X_train, X_test, y_train, y_test = train_test_split(features, target_encoded, test_size=0.2, random_state=42)\n",
    "# Training the RandomForestClassifier\n",
    "model = RandomForestClassifier(random_state=42)\n",
    "model.fit(X_train, y_train)\n",
    "# Save the model and label encoder to disk\n",
    "with open('/Users/roshinisampath/Crop-Recommendation/data/crop_prediction_model.pkl', 'wb') as file:\n",
    "    pickle.dump((model, label_encoder), file)\n",
    "print(\"Model and label encoder have been saved to /Users/roshinisampath/Crop-Recommendation/data/crop_prediction_model.pkl\")"
   ]
  }
 ],
 "metadata": {
  "kernelspec": {
   "display_name": "Python 3 (ipykernel)",
   "language": "python",
   "name": "python3"
  },
  "language_info": {
   "codemirror_mode": {
    "name": "ipython",
    "version": 3
   },
   "file_extension": ".py",
   "mimetype": "text/x-python",
   "name": "python",
   "nbconvert_exporter": "python",
   "pygments_lexer": "ipython3",
   "version": "3.11.5"
  }
 },
 "nbformat": 4,
 "nbformat_minor": 5
}
